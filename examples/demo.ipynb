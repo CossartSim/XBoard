{
 "cells": [
  {
   "cell_type": "markdown",
   "metadata": {
    "id": "fjvir8N9bDOW"
   },
   "source": [
    "Pour commencer à utiliser le programme. Il faut lancer ce premier programme en appuyant sur le bouton Exécuter ci-dessus."
   ]
  },
  {
   "cell_type": "code",
   "execution_count": null,
   "metadata": {
    "id": "o30Yfrg-23Hq"
   },
   "outputs": [],
   "source": [
    "!pip install xboard>=1.0.2\n",
    "\n",
    "from xboard import XBoard\n",
    "import time"
   ]
  },
  {
   "cell_type": "markdown",
   "metadata": {},
   "source": [
    "ATTENTION: Avant de lancer le programme suivant, il faut démarrer la XBoard, démarrer l'application Wifi et connecter l'ordinateur à au réseau de la poutre."
   ]
  },
  {
   "cell_type": "code",
   "execution_count": null,
   "metadata": {},
   "outputs": [],
   "source": [
    "IP = \"192.168.4.1\"\n",
    "myboard = XBoard(IP)"
   ]
  },
  {
   "cell_type": "markdown",
   "metadata": {
    "id": "_kc909TRbIfV"
   },
   "source": [
    "Démonstration des différents exercices proposés par la XBoard"
   ]
  },
  {
   "cell_type": "code",
   "execution_count": null,
   "metadata": {
    "id": "95sc7Jg3Babn"
   },
   "outputs": [],
   "source": [
    "myboard.libre()\n",
    "time.sleep(2)\n",
    "myboard.endurance(20)\n",
    "time.sleep(2)\n",
    "myboard.explosivite()\n",
    "time.sleep(2)\n",
    "myboard.concours()\n",
    "time.sleep(2)\n"
   ]
  }
 ],
 "metadata": {
  "colab": {
   "authorship_tag": "ABX9TyNfBTnIpthT/ZCgdwYw8Iu9",
   "provenance": [
    {
     "file_id": "https://github.com/CossartSim/XBoard/blob/main/examples/xboard0.ipynb",
     "timestamp": 1706786762516
    }
   ]
  },
  "kernelspec": {
   "display_name": "Python 3",
   "language": "python",
   "name": "python3"
  },
  "language_info": {
   "codemirror_mode": {
    "name": "ipython",
    "version": 3
   },
   "file_extension": ".py",
   "mimetype": "text/x-python",
   "name": "python",
   "nbconvert_exporter": "python",
   "pygments_lexer": "ipython3",
   "version": "3.8.5"
  }
 },
 "nbformat": 4,
 "nbformat_minor": 1
}
