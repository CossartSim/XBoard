{
 "cells": [
  {
   "cell_type": "markdown",
   "metadata": {
    "id": "CTto0MUWQeH9"
   },
   "source": [
    "Pour commencer à utiliser le programme. Il faut lancer ce premier programme en appuyant sur le bouton Exécuter ci-dessus."
   ]
  },
  {
   "cell_type": "code",
   "execution_count": null,
   "metadata": {
    "id": "Q1nzx2Kj24Em"
   },
   "outputs": [],
   "source": [
    "!pip install xboard>=1.0.2\n",
    "\n",
    "from xboard import XBoard\n",
    "import matplotlib.pyplot as plt\n",
    "import numpy as np\n",
    "import time"
   ]
  },
  {
   "cell_type": "markdown",
   "metadata": {},
   "source": [
    "ATTENTION: Avant de lancer le programme suivant, il faut démarrer la XBoard, démarrer l'application Wifi et connecter l'ordinateur à au réseau de la poutre."
   ]
  },
  {
   "cell_type": "code",
   "execution_count": null,
   "metadata": {},
   "outputs": [],
   "source": [
    "IP = \"192.168.4.1\"\n",
    "myboard = XBoard(IP)"
   ]
  },
  {
   "cell_type": "markdown",
   "metadata": {
    "id": "4iIdHu5DaeK-"
   },
   "source": [
    "On rentre ici les paramètres tel que le nombre de répétitions, le temps de pause et le temps de suspension"
   ]
  },
  {
   "cell_type": "code",
   "execution_count": null,
   "metadata": {
    "id": "95sc7Jg3Babn"
   },
   "outputs": [],
   "source": [
    "nom_user = \"Tom\"\n",
    "temps_debut = []\n",
    "temps_fin = []\n",
    "Nombre_repetitions = 10 # 24 suspensions en tout\n",
    "temps_on = 7 # 7s d'effort\n",
    "temps_off = 3 # 3s de repos"
   ]
  },
  {
   "cell_type": "markdown",
   "metadata": {},
   "source": [
    "Execution du programme"
   ]
  },
  {
   "cell_type": "code",
   "execution_count": null,
   "metadata": {
    "id": "1J0x-FZLaqzU"
   },
   "outputs": [],
   "source": [
    "myboard.programme(\"Force crit.\", nom_user, True, True, 0, [1500], [75], 1)\n",
    "time.sleep(1)\n",
    "\n",
    "for i in range(5,0,-1): # compte a rebours du debut d'exercice\n",
    "    myboard.programme(\"Attention {}s\".format(i), nom_user, True, True, 0)\n",
    "    time.sleep(1)\n",
    "\n",
    "# debut exercice\n",
    "for repetition in range(Nombre_repetitions):\n",
    "    temps_debut.append(time.perf_counter() - myboard.time_init)\n",
    "    myboard.programme(\"Rep {}\".format(repetition+1), nom_user, True, False, 0, [750, 1000, 1500], [75, 100, 100])\n",
    "    time.sleep(temps_on)\n",
    "\n",
    "    temps_fin.append(time.perf_counter() - myboard.time_init)\n",
    "    myboard.programme(\"Pause...\".format(repetition), nom_user, False, True, 0, [1500, 1000, 750], [75, 100, 100])\n",
    "    time.sleep(temps_off/2)\n",
    "    myboard.programme(\"Pause...\".format(repetition), nom_user, False, True, 0, [0], [0], 1) # Calibration sur les pauses\n",
    "    time.sleep(temps_off/2)\n",
    "\n",
    "time.sleep(1)\n",
    "myboard.programme(\"Fin exercice\", nom_user, False, True, 0, [1500, 1000, 750, 1500, 1000, 750], [75, 100, 100, 75, 100, 100])\n",
    "myboard.stop_reception()"
   ]
  },
  {
   "cell_type": "markdown",
   "metadata": {},
   "source": [
    "Analyse des données"
   ]
  },
  {
   "cell_type": "code",
   "execution_count": null,
   "metadata": {},
   "outputs": [],
   "source": [
    "# On redimensionne les tableau de données\n",
    "len_temps = len(myboard.timestamp[0])\n",
    "len_data = len(myboard.data[0])\n",
    "len_plot = np.minimum(len_temps, len_data)\n",
    "temps_debut_exo = temps_debut[0]\n",
    "force = np.array(myboard.data[0][:len_plot])\n",
    "temps = np.array(myboard.timestamp[0][:len_plot])\n",
    "\n",
    "# On synchronise les données avec le début de l'exercice\n",
    "indice_debut = np.argmin(abs(temps - temps_debut_exo))\n",
    "force = force[indice_debut - 10:]\n",
    "temps = temps[indice_debut - 10:]\n",
    "\n",
    "force_max = np.max(force)\n",
    "\n",
    "\n",
    "# on recherche le centre de chaque repetition\n",
    "indice_centre = []\n",
    "for i in range(len(temps_debut)):\n",
    "    arg_debut = np.argmin(np.abs(temps - temps_debut[i]))\n",
    "    arg_fin = np.argmin(np.abs(temps - temps_fin[i]))\n",
    "    indice_centre.append((arg_debut + arg_fin)//2)\n",
    "\n",
    "# on trouve la plage de données valide pour chaque répétitions\n",
    "seuil = (force>5)\n",
    "reps = np.zeros([len(temps_debut), len(seuil)])*False\n",
    "indice_debut = []\n",
    "indice_fin = []\n",
    "for indice in enumerate(indice_centre):\n",
    "    i = indice[1]\n",
    "    while seuil[i] == True:\n",
    "        i -= 1\n",
    "    indice_debut.append(i) # debut de la plage de donnée\n",
    "\n",
    "    i = indice[1]\n",
    "    while seuil[i] == True:\n",
    "        i += 1\n",
    "    indice_fin.append(i) # fin de la plage de donnée\n",
    "\n",
    "    reps[indice[0], indice_debut[-1]:indice_fin[-1]] = True\n",
    "\n",
    "\n",
    "# Calcul de la force moyenne sur une répétition en ne tenant en compte que des 85% des valeurs les plus importantes\n",
    "# Calcul de la force moyenne pour chaque répétitions\n",
    "tri_force = np.sort(reps*force)[:,::-1] # valeurs de force triés par répétitions et par force decroissante\n",
    "nombre_valeur = reps.sum(axis=1)\n",
    "force_moyenne_85 = np.empty(len(reps))\n",
    "for i in range(len(reps)):\n",
    "    tri_force[i, int(.85*nombre_valeur[i]):] = 0 # on supprime les valeurs les plus faibles\n",
    "    force_moyenne_85[i] = tri_force[i].sum()/int(.85*nombre_valeur[i]) # on fait la moyenne des valeurs restantes\n",
    "\n",
    "force_moyenne = np.round((reps*force).sum(axis=1)/reps.sum(axis=1), 2)\n",
    "\n",
    "# force maximum pour chaque répétition\n",
    "force_max = (reps*force).max(axis = 1)\n",
    "arg_force_max = np.argmax(reps*force, axis = 1)"
   ]
  },
  {
   "cell_type": "markdown",
   "metadata": {},
   "source": [
    "Affichage du résultat"
   ]
  },
  {
   "cell_type": "code",
   "execution_count": null,
   "metadata": {
    "id": "r6nyxwI3atJ1"
   },
   "outputs": [],
   "source": [
    "plt.figure(figsize=(15,8))\n",
    "plt.plot(temps[arg_force_max], force_max, \"rx\", linewidth=2, markersize=12)\n",
    "for i in range(len(force_max)):\n",
    "    plt.text(temps[arg_force_max[i]]+1, force_max[i]+1, np.round(force_max[i], 1), fontsize=\"x-large\", color=\"red\", weight=\"demibold\")\n",
    "\n",
    "plt.plot(temps, force)\n",
    "for i in range(len(force_moyenne_85)):\n",
    "    plt.plot([temps[indice_debut[i]], temps[indice_fin[i]]], [force_moyenne_85[i], force_moyenne_85[i]], \"k\")\n",
    "for i in range(len(force_max)):\n",
    "    plt.text(temps[indice_debut[i]], force_moyenne_85[i]-4, np.round(force_moyenne_85[i], 1), fontsize=\"x-large\", weight=\"bold\")\n",
    "\n",
    "plt.ylabel(\"Force [kg]\")\n",
    "plt.xlabel(\"Temps [s]\")\n",
    "plt.title(\"Exercice force critique, {}, reglette 22mm\".format(nom_user))\n",
    "plt.ylim([-10, 1.2*np.max(force)])\n",
    "plt.grid()\n",
    "plt.show()"
   ]
  },
  {
   "cell_type": "code",
   "execution_count": null,
   "metadata": {},
   "outputs": [],
   "source": []
  }
 ],
 "metadata": {
  "colab": {
   "authorship_tag": "ABX9TyNZcZK3vGYHptrwghs+OyRF",
   "provenance": [
    {
     "file_id": "1er3AqiQaFjHBXXeWzXLj5tDc9I1ZkZ0N",
     "timestamp": 1706801015250
    },
    {
     "file_id": "https://github.com/CossartSim/XBoard/blob/main/examples/xboard0.ipynb",
     "timestamp": 1706786762516
    }
   ]
  },
  "kernelspec": {
   "display_name": "Python 3",
   "language": "python",
   "name": "python3"
  },
  "language_info": {
   "codemirror_mode": {
    "name": "ipython",
    "version": 3
   },
   "file_extension": ".py",
   "mimetype": "text/x-python",
   "name": "python",
   "nbconvert_exporter": "python",
   "pygments_lexer": "ipython3",
   "version": "3.8.5"
  }
 },
 "nbformat": 4,
 "nbformat_minor": 1
}
